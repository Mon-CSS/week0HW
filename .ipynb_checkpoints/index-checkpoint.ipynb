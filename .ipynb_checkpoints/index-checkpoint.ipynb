{
 "cells": [
  {
   "cell_type": "markdown",
   "id": "1d0d9fd6-66a7-49ba-aa37-b392adee0bb6",
   "metadata": {},
   "source": [
    "hw1"
   ]
  },
  {
   "cell_type": "markdown",
   "id": "aa9aa4f7-a230-43e5-b062-b31a3763a995",
   "metadata": {},
   "source": [
    "step 1"
   ]
  },
  {
   "cell_type": "code",
   "execution_count": 6,
   "id": "287a2594-a309-4788-95c3-2fb5835c3201",
   "metadata": {},
   "outputs": [],
   "source": [
    "x=10\n",
    "y=100\n",
    "z=x+y"
   ]
  },
  {
   "cell_type": "code",
   "execution_count": 8,
   "id": "f449e825-31ac-41c0-9d57-7715382b1224",
   "metadata": {},
   "outputs": [
    {
     "data": {
      "text/plain": [
       "110"
      ]
     },
     "execution_count": 8,
     "metadata": {},
     "output_type": "execute_result"
    }
   ],
   "source": [
    "z"
   ]
  },
  {
   "cell_type": "markdown",
   "id": "baa7d22d-874b-402a-b27e-f778fcf23e29",
   "metadata": {},
   "source": [
    "step 2"
   ]
  },
  {
   "cell_type": "code",
   "execution_count": 14,
   "id": "911bd0af-8e96-4dc1-86b7-c5b08cfbb282",
   "metadata": {},
   "outputs": [
    {
     "data": {
      "text/html": [
       "<div>\n",
       "<style scoped>\n",
       "    .dataframe tbody tr th:only-of-type {\n",
       "        vertical-align: middle;\n",
       "    }\n",
       "\n",
       "    .dataframe tbody tr th {\n",
       "        vertical-align: top;\n",
       "    }\n",
       "\n",
       "    .dataframe thead th {\n",
       "        text-align: right;\n",
       "    }\n",
       "</style>\n",
       "<table border=\"1\" class=\"dataframe\">\n",
       "  <thead>\n",
       "    <tr style=\"text-align: right;\">\n",
       "      <th></th>\n",
       "      <th>IATA</th>\n",
       "      <th>AIRPORT</th>\n",
       "      <th>CITY</th>\n",
       "      <th>STATE</th>\n",
       "      <th>COUNTRY</th>\n",
       "      <th>LATITUDE</th>\n",
       "      <th>LONGITUDE</th>\n",
       "    </tr>\n",
       "  </thead>\n",
       "  <tbody>\n",
       "    <tr>\n",
       "      <th>0</th>\n",
       "      <td>ABQ</td>\n",
       "      <td>Albuquerque International</td>\n",
       "      <td>Albuquerque</td>\n",
       "      <td>NM</td>\n",
       "      <td>USA</td>\n",
       "      <td>35.040222</td>\n",
       "      <td>-106.609194</td>\n",
       "    </tr>\n",
       "    <tr>\n",
       "      <th>1</th>\n",
       "      <td>ANC</td>\n",
       "      <td>Ted Stevens Anchorage International</td>\n",
       "      <td>Anchorage</td>\n",
       "      <td>AK</td>\n",
       "      <td>USA</td>\n",
       "      <td>61.174320</td>\n",
       "      <td>-149.996186</td>\n",
       "    </tr>\n",
       "    <tr>\n",
       "      <th>2</th>\n",
       "      <td>ATL</td>\n",
       "      <td>William B Hartsfield-Atlanta Intl</td>\n",
       "      <td>Atlanta</td>\n",
       "      <td>GA</td>\n",
       "      <td>USA</td>\n",
       "      <td>33.640444</td>\n",
       "      <td>-84.426944</td>\n",
       "    </tr>\n",
       "    <tr>\n",
       "      <th>3</th>\n",
       "      <td>AUS</td>\n",
       "      <td>Austin-Bergstrom International</td>\n",
       "      <td>Austin</td>\n",
       "      <td>TX</td>\n",
       "      <td>USA</td>\n",
       "      <td>30.194533</td>\n",
       "      <td>-97.669872</td>\n",
       "    </tr>\n",
       "    <tr>\n",
       "      <th>4</th>\n",
       "      <td>BDL</td>\n",
       "      <td>Bradley International</td>\n",
       "      <td>Windsor Locks</td>\n",
       "      <td>CT</td>\n",
       "      <td>USA</td>\n",
       "      <td>41.938874</td>\n",
       "      <td>-72.683228</td>\n",
       "    </tr>\n",
       "  </tbody>\n",
       "</table>\n",
       "</div>"
      ],
      "text/plain": [
       "  IATA                              AIRPORT           CITY STATE COUNTRY  \\\n",
       "0  ABQ            Albuquerque International    Albuquerque    NM     USA   \n",
       "1  ANC  Ted Stevens Anchorage International      Anchorage    AK     USA   \n",
       "2  ATL    William B Hartsfield-Atlanta Intl        Atlanta    GA     USA   \n",
       "3  AUS       Austin-Bergstrom International         Austin    TX     USA   \n",
       "4  BDL                Bradley International  Windsor Locks    CT     USA   \n",
       "\n",
       "    LATITUDE   LONGITUDE  \n",
       "0  35.040222 -106.609194  \n",
       "1  61.174320 -149.996186  \n",
       "2  33.640444  -84.426944  \n",
       "3  30.194533  -97.669872  \n",
       "4  41.938874  -72.683228  "
      ]
     },
     "execution_count": 14,
     "metadata": {},
     "output_type": "execute_result"
    }
   ],
   "source": [
    "import pandas as pd\n",
    "mydata=pd.read_csv(\"https://github.com/Mon-CSS/week0HW/raw/refs/heads/main/airports.csv\")\n",
    "mydata.head()"
   ]
  }
 ],
 "metadata": {
  "kernelspec": {
   "display_name": "Python [conda env:base] *",
   "language": "python",
   "name": "conda-base-py"
  },
  "language_info": {
   "codemirror_mode": {
    "name": "ipython",
    "version": 3
   },
   "file_extension": ".py",
   "mimetype": "text/x-python",
   "name": "python",
   "nbconvert_exporter": "python",
   "pygments_lexer": "ipython3",
   "version": "3.12.7"
  }
 },
 "nbformat": 4,
 "nbformat_minor": 5
}
